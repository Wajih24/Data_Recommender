{
  "cells": [
    {
      "cell_type": "markdown",
      "metadata": {
        "id": "view-in-github",
        "colab_type": "text"
      },
      "source": [
        "<a href=\"https://colab.research.google.com/github/Wajih24/Data_Recommender/blob/main/recommender_systems_in_python.ipynb\" target=\"_parent\"><img src=\"https://colab.research.google.com/assets/colab-badge.svg\" alt=\"Open In Colab\"/></a>"
      ]
    },
    {
      "cell_type": "markdown",
      "metadata": {
        "id": "dy2f6RQWMfYz"
      },
      "source": [
        "<a class=\"anchor\" id=\"0\"></a>\n",
        "# **Recommender Systems in Python** \n",
        "\n",
        "\n",
        "\n",
        "\n",
        "**[Recommender Systems](https://en.wikipedia.org/wiki/Recommender_system)** - the name tells it all. Recommender Systems are one of the most popular and widely used applications of data science. In this notebook, we will build a Recommender System with Python. We will discuss various types of recommender systems including - *Content-based* and *Collaborative filtering* recommender systems. Along the way we will build a movie recommender system. Also, we will discuss matrix factorization and how to evaluate recommender systems.\n",
        "\n",
        "\n",
        "\n",
        "So, let's get started."
      ]
    },
    {
      "cell_type": "markdown",
      "metadata": {
        "id": "XebN9gozMfY2"
      },
      "source": [
        "<a class=\"anchor\" id=\"0.1\"></a>\n",
        "\n",
        "# **Table of Contents**\n",
        "\n",
        "\n",
        "1.\t[Introduction to Recommender Systems](#1)\n",
        "2.\t[Recommender Systems mechanism](#2)\n",
        "    - 2.1\t[Data collection](#2.1)\n",
        "    - 2.2 [Data storage](#2.2)\n",
        "    - 2.3 [Filtering the data](#2.3)\n",
        "3.\t[Collaborative filtering recommender system](#3)\n",
        "4.\t[Content-based filtering recommender system](#4)\n",
        "5.\t[Multi-criteria recommender systems](#5)\n",
        "6.\t[Risk aware recommender systems](#6)\n",
        "7.\t[Mobile recommender systems](#7)\n",
        "8.\t[Hybrid recommender systems](#8)\n",
        "9.\t[Introduction to matrix factorization](#9)\n",
        "10.\t[Evaluating recommender systems](#10)\n",
        "11.\t[Applications of recommender systems](#11)\n",
        "12.\t[Implement a Movie Recommender System in Python](#12)\n",
        "13. [Finding Similarities Between Movies](#13)\n",
        "14. [Conclusion](#14)\n",
        "15. [References](#15)\n",
        "\n",
        "\n"
      ]
    },
    {
      "cell_type": "markdown",
      "metadata": {
        "id": "0_ecEAzuMfY2"
      },
      "source": [
        "# **1. Introduction to Recommender Systems** <a class=\"anchor\" id=\"1\"></a>\n",
        "\n",
        "[Table of Contents](#0.1)\n",
        "\n",
        "\n",
        "\n",
        "- [Recommender systems](https://en.wikipedia.org/wiki/Recommender_system) are one of the most popular data science applications today.\n",
        "\n",
        "- A recommender system is a data science application that is used to predict or offer products to customers based on their past purchase or browsing history.\n",
        "\n",
        "- At the core, a recommender system employs a machine learning algorithm whose job is to predict user's ratings for a particular entity.\n",
        "\n",
        "- It is based on the similarity based on the entities or users that previously rated those entities.\n",
        "\n",
        "- The idea is that similar types of users are likely to have similar ratings for a set of entities.\n",
        "\n",
        "- Recommender systems have wide variety of applications.\n",
        "\n",
        "- Many of the big technology companies use a recommender system in some form to recommend products to customers.\n",
        "\n",
        "- They are used by Amazon for product recommendations, YouTube for video recommendations, Netflix and IMDB for movie recommendations and Facebook for friend recommendations.\n",
        "\n",
        "- The ability to recommend relevant products or services to users can be very profitable for a company. Hence, it is so common to find this application by many companies.\n"
      ]
    },
    {
      "cell_type": "markdown",
      "metadata": {
        "id": "M-J9HpOkMfY3"
      },
      "source": [
        "# **2. Recommender Systems Mechanism** <a class=\"anchor\" id=\"2\"></a>\n",
        "\n",
        "[Table of Contents](#0.1)\n",
        "\n",
        "\n",
        "- In this section, we will focus on recommender systems mechanism, i.e. how a recommender systems work.\n",
        "\n",
        "- Basically, a recommendation engine filters the data using different algorithms and recommends the most relevant items to users.\n",
        "\n",
        "- It first studies the past behaviour of a customer and based on that recommends products which he might buy.\n",
        "\n",
        "- The working of recommender systems is shown in the following diagram-"
      ]
    },
    {
      "cell_type": "markdown",
      "metadata": {
        "id": "dmJofg6hMfY4"
      },
      "source": [
        "![Recommender Systems Mechanism](https://miro.medium.com/max/1200/1*yYFoZKYpp7MT_iAqoE1lRw.png)\n",
        "\n",
        "\n",
        "\n",
        "#### image source : https://medium.com/@sonish.sivarajkumar/recommendation-engine-beginners-guide-aec32708e5b9"
      ]
    },
    {
      "cell_type": "markdown",
      "metadata": {
        "id": "mYXnw7_DMfY4"
      },
      "source": [
        "- Now, we can recommend products to users in different ways.\n",
        "\n",
        "- We can recommend items to a user which are most popular among all the users.\n",
        "\n",
        "- We can divide the users into multiple segments and based on their preferences we recommend items to them.\n",
        "\n",
        "- The working of a recommendation engine can be categorized in three steps-\n",
        "\n",
        "\n",
        "1. Data collection\n",
        "2. Data storage\n",
        "3. Filtering the data\n",
        "\n",
        "\n",
        "These steps are explained below:-"
      ]
    },
    {
      "cell_type": "markdown",
      "metadata": {
        "id": "VETa86SDMfY5"
      },
      "source": [
        "## **2.1 Data collection** <a class=\"anchor\" id=\"2.1\"></a>\n",
        "\n",
        "[Table of Contents](#0.1)\n",
        "\n",
        "\n",
        "- The first step in building a recommendation engine is data collection.\n",
        "\n",
        "- There are two forms of data collection techniques employed in recommender systems.\n",
        "\n",
        "- These are **explicit** and **implicit** forms of data collection.\n",
        "\n",
        "- **Explicit data** is information that is provided intentionally, i.e. input from the users such as movie ratings.\n",
        "\n",
        "- **Implicit data** is information that is not provided intentionally but gathered from available data streams like search history, clicks, order history, etc.\n",
        "\n",
        "\n",
        "\n",
        "### **Examples of explicit data collection include the following**\n",
        "\n",
        "- Asking a user to rate an item on a sliding scale.\n",
        "\n",
        "- Asking a user to search.\n",
        "\n",
        "- Asking a user to rank a collection of items from favorite to least favorite.\n",
        "\n",
        "- Presenting two items to a user and asking him/her to choose the better one of them.\n",
        "\n",
        "- Asking a user to create a list of items that he/she likes.\n",
        "\n",
        "\n",
        "\n",
        "### **Examples of implicit data collection include the following**\n",
        "\n",
        "\n",
        "- Observing the items that a user views in an online store.\n",
        "\n",
        "- Analyzing item/user viewing times.\n",
        "\n",
        "- Keeping a record of the items that a user purchases online.\n",
        "\n",
        "- Obtaining a list of items that a user has listened to or watched on his/her computer.\n",
        "\n",
        "- Analyzing the user's social network and discovering similar likes and dislikes."
      ]
    },
    {
      "cell_type": "markdown",
      "metadata": {
        "id": "8TQ6WQr1MfY5"
      },
      "source": [
        "## **2.2 Data storage** <a class=\"anchor\" id=\"2.2\"></a>\n",
        "\n",
        "[Table of Contents](#0.1)\n",
        "\n",
        "\n",
        "- The second step in building a recommendation engine is data storage.\n",
        "\n",
        "- The amount of data storage dictates how good the recommendations of the model are.\n",
        "\n",
        "- For example, in a movie recommendation system, the more ratings users give to movies, the better the recommendations get for other users.\n",
        "\n",
        "- The type of data plays an important role in deciding the type of storage that has to be used.\n",
        "\n",
        "- This type of storage could include a standard SQL database, a NoSQL database or some kind of object storage."
      ]
    },
    {
      "cell_type": "markdown",
      "metadata": {
        "id": "jIyDczOzMfY5"
      },
      "source": [
        "## **2.3 Filtering the data** <a class=\"anchor\" id=\"2.3\"></a>\n",
        "\n",
        "\n",
        "[Table of Contents](#0.1)\n",
        "\n",
        "\n",
        "- The third and final step in building a recommendation engine is filter the data to extract relevant information required to make final recommendations.\n",
        "\n",
        "- There are two major approaches to filter the data to extract relevant information. These are as follows:-\n",
        "\n",
        "- 1. **[Collaborative Filtering](https://en.wikipedia.org/wiki/Collaborative_filtering)** – based on similar users.\n",
        "\n",
        "- 2. **[Content-Based Filtering](http://recommender-systems.org/content-based-filtering/)** – based on product attributes.\n",
        "\n",
        "- The difference between the above two approaches are shown in the following diagram-"
      ]
    },
    {
      "cell_type": "markdown",
      "metadata": {
        "id": "b6kV0RSfMfY6"
      },
      "source": [
        "![Collaborative Vs Content Based Filtering](https://miro.medium.com/max/1064/1*mz9tzP1LjPBhmiWXeHyQkQ.png)\n",
        "\n",
        "\n",
        "\n",
        "#### image source : https://towardsdatascience.com/brief-on-recommender-systems-b86a1068a4dd"
      ]
    },
    {
      "cell_type": "markdown",
      "metadata": {
        "id": "TkuPe7nAMfY6"
      },
      "source": [
        "There are several other approaches for recommender systems used in practice. These are discussed later. At first, we will discuss the above two approaches."
      ]
    },
    {
      "cell_type": "markdown",
      "metadata": {
        "id": "6whePHi8MfY7"
      },
      "source": [
        "# **3. [Collaborative Filtering Recommender System](https://en.wikipedia.org/wiki/Collaborative_filtering)** <a class=\"anchor\" id=\"3\"></a>\n",
        "\n",
        "[Table of Contents](#0.1)\n",
        "\n",
        "\n",
        "- In the [collaborative filtering](https://en.wikipedia.org/wiki/Collaborative_filtering) recommender system, the behaviour of a group of users is used to make recommendations to other users.\n",
        "\n",
        "- In this case, the system don’t have any knowledge about the product.\n",
        "\n",
        "- Collaborative filtering approach build a model from a user’s past behaviour (items previously purchased or selected and/or numerical ratings given to those items) as well as similar decisions made by other users.\n",
        "\n",
        "- This model is then used to predict items (or ratings for items) that the user may have an interest in.\n",
        "\n",
        "- It recommends based on the user’s rating in the past.\n",
        "\n",
        "- These systems try to predict the user’s rating or preferences based on past rating or preferences of other users.\n",
        "\n",
        "- These filters do not require item metadata to make predictions.\n",
        "\n",
        "- There are two types of collaborative filtering recommender system. They are:-\n",
        "\n",
        "\n",
        "### **1. User-based collaborative filtering**\n",
        "\n",
        "- In this method products are recommended to a user based on the fact that the products have been liked by users similar to the user.\n",
        "\n",
        "### **2. Item-based collaborative filtering**\n",
        "\n",
        "- This method identifies and predict similar items based on users’ previous ratings.\n"
      ]
    },
    {
      "cell_type": "markdown",
      "metadata": {
        "id": "lZDtAnc4MfY7"
      },
      "source": [
        "### **Collaborative filtering methods are also classified as memory-based and model-based**\n",
        "\n",
        "\n",
        "- An example of memory-based approach is the user-based algorithm while that of model-based approach is Kernel-Mapping Recommender.\n",
        "\n",
        "\n",
        "- Collaborative filtering approaches often suffer from three problems - \n",
        "\n",
        "    - 1. cold start \n",
        "    - 2. scalability  \n",
        "    - 3. sparsity\n",
        "    \n",
        "    \n",
        "- These are discussed below:-\n",
        "\n",
        "\n",
        "#### **1. Cold start**\n",
        "\n",
        "- Cold start refers to a problem, when for a new user or item there is not enough data to make recommendations.\n",
        "\n",
        "\n",
        "\n",
        "#### **2. Scalability**\n",
        "\n",
        "- To make recommendations, we need to choose from millions of users and products. So scalability means a large amount of computation power is required to make recommendations.\n",
        "\n",
        "\n",
        "#### **3. Sparsity**\n",
        "\n",
        "- The number of items sold on e-commerce portals are extremely large. The most active users will only have rated a small subset of overall database. Thus, even the most popular items have very few ratings.\n",
        "\n",
        "\n",
        "\n",
        "- Most famous example of collaborative filtering is item-to-item collaborative filtering (people who buy x also buy y). This algorithm is popularized by Amazon recommender system.\n",
        "\n",
        "- Social network companies like Facebook, originally used collaborative filtering to recommend new friends and groups by examining the network of connections between a user and their friends.\n",
        "\n",
        "- The diagram below demonstrates collaborative filtering recommender systems."
      ]
    },
    {
      "cell_type": "markdown",
      "metadata": {
        "id": "foyIXmotMfY8"
      },
      "source": [
        "![Collaborative Filtering Recommender System](https://miro.medium.com/max/3040/0*o0zVW2O6Rv-LI5Mu.png)\n",
        "\n",
        "\n",
        "\n",
        "\n",
        "\n",
        "#### image source : https://medium.com/@tomar.ankur287/user-user-collaborative-filtering-recommender-system-51f568489727"
      ]
    },
    {
      "cell_type": "markdown",
      "metadata": {
        "id": "RSUKYAgJMfY8"
      },
      "source": [
        "# **4. [Content-based Filtering Recommender System](http://recommender-systems.org/content-based-filtering/)** <a class=\"anchor\" id=\"4\"></a>\n",
        "\n",
        "\n",
        "[Table of Contents](#0.1)\n",
        "\n",
        "\n",
        "- Another common approach when designing recommender systems is [Content-based Filtering](http://recommender-systems.org/content-based-filtering/).\n",
        "\n",
        "- Content-based filtering methods are based on a description of the item and a profile of the user’s preferences.\n",
        "\n",
        "- These methods are best suited to situations where there is known data on an item (name, location, description, etc.), but not on the user.\n",
        "\n",
        "- In content based filtering recommender system, the similarity between different products is calculated on the basis of the attributes of the products.\n",
        "\n",
        "- The system uses the knowledge of each product to recommend a new product.\n",
        "\n",
        "- Content-based filtering approaches utilize a series of discrete characteristics of an item in order to recommend additional items with similar properties.\n",
        "\n",
        "- For example, in a content based movie recommender system, the similarities between the movies is calculated on the basis of genres, the actors and the director.\n",
        "\n",
        "- The general idea behind these recommender systems is that if a person liked a particular item, then he will also like an item similar to it.\n",
        "\n",
        "- Content-based recommenders treat recommendation as a user-specific classification problem and learn a classifier for the user's likes and dislikes based on product features.\n",
        "\n",
        "- The diagram below demonstrates content-based filtering recommender systems."
      ]
    },
    {
      "cell_type": "markdown",
      "metadata": {
        "id": "HRQ0gVMOMfY8"
      },
      "source": [
        "![Content Based Filtering Recommender System](https://miro.medium.com/max/828/1*1b-yMSGZ1HfxvHiJCiPV7Q.png)\n",
        "\n",
        "\n",
        "\n",
        "\n",
        "#### image source : https://medium.com/data-science-101/movie-recommendation-system-content-filtering-7ba425ca0920"
      ]
    },
    {
      "cell_type": "markdown",
      "metadata": {
        "id": "ga2GiXlSMfY8"
      },
      "source": [
        "# **5. Multi Criteria Recommender Systems** <a class=\"anchor\" id=\"5\"></a>\n",
        "\n",
        "\n",
        "[Table of Contents](#0.1)\n",
        "\n",
        "\n",
        "- Multi-criteria recommender systems (MCRS) can be defined as recommender systems that incorporate preference information upon multiple criteria.\n",
        "\n",
        "- Instead of developing recommendation techniques based on a single criterion values, the overall preference of user u for the item i, these systems try to predict a rating for unexplored items of u by exploiting preference information on multiple criteria that affect this overall preference value.\n",
        "\n",
        "- Researchers approach MCRS as a multi-criteria decision making (MCDM) problem, and apply MCDM methods and techniques to implement MCRS systems."
      ]
    },
    {
      "cell_type": "markdown",
      "metadata": {
        "id": "VL_BqCqwMfY9"
      },
      "source": [
        "# **6. Risk-aware Recommender Systems** <a class=\"anchor\" id=\"6\"></a>\n",
        "\n",
        "\n",
        "[Table of Contents](#0.1)\n",
        "\n",
        "\n",
        "\n",
        "- The existing approaches to recommender systems focus on recommending the most relevant content to users using contextual information.\n",
        "\n",
        "- They do not take into account the risk of disturbing the user with unwanted notifications.\n",
        "\n",
        "- It is important to consider the risk of disturbing the user by pushing recommendations in certain circumstances.\n",
        "\n",
        "- For example, during a professional meeting, early morning, or late at night.\n",
        "\n",
        "- Therefore, the performance of the recommender system depends to an extent how much risk it has incorporated into the recommendation process.\n",
        "\n",
        "- One option to manage this issue is DRARS, a system which models the context-aware recommendation as a bandit problem.\n",
        "\n",
        "- This system combines a content-based technique and a contextual bandit algorithm."
      ]
    },
    {
      "cell_type": "markdown",
      "metadata": {
        "id": "7G-J3X0LMfY9"
      },
      "source": [
        "# **7. Mobile Recommender Systems** <a class=\"anchor\" id=\"7\"></a>\n",
        "\n",
        "\n",
        "[Table of Contents](#0.1)\n",
        "\n",
        "\n",
        "- Mobile recommender systems make use of internet-accessing smart phones to offer personalized and context-sensitive recommendations.\n",
        "\n",
        "- There are three factors that could affect the mobile recommender systems and the accuracy of prediction results: **context**, **recommendation method** and **privacy**.\n",
        "\n",
        "- Additionally, mobile recommender systems suffer from a transplantation problem – recommendations may not apply in all regions.\n",
        "\n",
        "- One example of a mobile recommender system are the approaches taken by companies such as Uber and Lyft to generate driving routes for taxi drivers in a city.\n",
        "\n",
        "- This system uses GPS data of the routes that taxi drivers take while working. It includes location (latitude and longitude), time stamps, and operational status (with or without passengers).\n",
        "\n",
        "- It uses this data to recommend a list of pickup points along a route, with the goal of optimizing occupancy times and profits."
      ]
    },
    {
      "cell_type": "markdown",
      "metadata": {
        "id": "Z_4ahJuOMfY-"
      },
      "source": [
        "# **8. Hybrid Recommender Systems** <a class=\"anchor\" id=\"8\"></a>\n",
        "\n",
        "\n",
        "[Table of Contents](#0.1)\n",
        "\n",
        "\n",
        "- Most recommender systems now use a hybrid approach.\n",
        "\n",
        "- It means to combine collaborative filtering, content-based filtering and other approaches.\n",
        "\n",
        "- Hybrid approaches can be implemented in several ways which are as follows:\n",
        "\n",
        "1. By making content-based and collaborative-based predictions separately and then combining them.\n",
        "2. By adding content-based capabilities to a collaborative-based approach (and vice versa) or\n",
        "3. By combining the approaches into one model.\n",
        "\n",
        "\n",
        "- An example of hybrid recommender systems is Netflix website.\n",
        "\n",
        "- The website makes recommendations by comparing the watching and searching habits of similar users (collaborative filtering) as well as by offering movies that share characteristics with films that a user has rated highly (content-based filtering).\n",
        "\n",
        "\n",
        "Some hybridization techniques include:\n",
        "\n",
        "\n",
        "• **Weighted**: Combining the score of different recommendation components numerically.\n",
        "\n",
        "• **Switching**: Choosing among recommendation components and applying the selected one.\n",
        "\n",
        "• **Mixed**: Recommendations from different recommenders are presented together to give the recommendation.\n",
        "\n",
        "• **Feature Combination**: Features derived from different knowledge sources are combined together and given to a single recommendation algorithm.\n",
        "\n",
        "• **Feature Augmentation**: Computing a feature or set of features, which is then part of the input to the next technique.\n",
        "\n",
        "• **Cascade**: Recommenders are given strict priority, with the lower priority ones breaking ties in the scoring of the higher ones.\n",
        "\n",
        "• **Meta-level**: One recommendation technique is applied and produces some sort of model, which is then the input used by the next technique."
      ]
    },
    {
      "cell_type": "markdown",
      "metadata": {
        "id": "A8D8pQ-SMfY-"
      },
      "source": [
        "# **9. Introduction to Matrix Factorization** <a class=\"anchor\" id=\"9\"></a>\n",
        "\n",
        "\n",
        "[Table of Contents](#0.1)\n",
        "\n",
        "\n",
        "- **Matrix factorization** is a class of collaborative filtering algorithms used in recommender systems.\n",
        "\n",
        "- **Matrix factorization** algorithms work by decomposing the user-item interaction matrix into the product of two lower dimensionality rectangular matrices.\n",
        "\n",
        "- It became widely known during the Netflix prize challenge due to its effectiveness as reported by Simon Funk in 2006.\n",
        "\n",
        "- The idea behind matrix factorization is to represent users and items in a lower dimensional latent space.\n",
        "\n",
        "- Matrix factorization can be demonstrated by the following diagram-"
      ]
    },
    {
      "cell_type": "markdown",
      "metadata": {
        "id": "XB8Lry4qMfY_"
      },
      "source": [
        "![Simple Matrix Factorization](https://miro.medium.com/max/3378/1*Zhm1NMlmVywn0G18w3exog.png)\n",
        "\n",
        "\n",
        "\n",
        "\n",
        "#### image source : https://medium.com/@connectwithghosh/simple-matrix-factorization-example-on-the-movielens-dataset-using-pyspark-9b7e3f567536"
      ]
    },
    {
      "cell_type": "markdown",
      "metadata": {
        "id": "BrlkGnbqMfY_"
      },
      "source": [
        "- Nowadays, different types of matrix factorization approaches are used in practice.\n",
        "\n",
        "- Most popular used matrix factorization approaches are discussed below."
      ]
    },
    {
      "cell_type": "markdown",
      "metadata": {
        "id": "HFG6qOZBMfY_"
      },
      "source": [
        "## **Funk SVD**\n",
        "\n",
        "- Funk SVD is the original algorithm proposed by Simon Funk.\n",
        "\n",
        "- He factorized the user-item rating matrix as the product of two lower dimensional matrices – the first one has a row for each user while the second one has a column for each item.\n",
        "\n",
        "- The row or column associated to a specific user or item is referred to as latent factors.\n",
        "\n",
        "- Despite its name, in Funk SVD, no singular value decomposition is applied.\n",
        "\n",
        "\n",
        "\n",
        "## **SVD ++**\n",
        "\n",
        "- FunkSVD is able to provide very good recommendation quality, its ability to use only explicit numerical ratings as user-items interactions constitutes a limitation.\n",
        "\n",
        "- Modern day recommender systems should exploit all available interactions both explicit (e.g. numerical ratings) and implicit (e.g. likes, purchases, skipped, bookmarked).\n",
        "\n",
        "- Keeping this in mind, SVD++ was designed to take into account implicit interactions as well.\n",
        "\n",
        "- As compared to FunkSVD, SVD++ takes also into account user and item bias.\n",
        "\n",
        "\n",
        "\n",
        "## **Asymmetric SVD**\n",
        "\n",
        "- Asymmetric SVD aims at combining the advantages of SVD++ while being a model based algorithm.\n",
        "\n",
        "- Therefore it is able to consider new users with a few ratings without needing to retrain the whole model.\n",
        "\n",
        "\n",
        "\n",
        "## **Hybrid Matrix Factorization**\n",
        "\n",
        "- In recent years many other matrix factorization models have been developed to exploit the ever increasing amount and variety of available interaction data and use cases.\n",
        "\n",
        "- Hybrid matrix factorization algorithms are capable of merging explicit and implicit interactions or both content and collaborative data."
      ]
    },
    {
      "cell_type": "markdown",
      "metadata": {
        "id": "X7afE57QMfY_"
      },
      "source": [
        "# **10. Evaluating Recommender Systems** <a class=\"anchor\" id=\"10\"></a>\n",
        "\n",
        "\n",
        "[Table of Contents](#0.1)\n",
        "\n",
        "\n",
        "- Once we develop a recommender system, we want to evaluate them.\n",
        "\n",
        "- Evaluation is important in assessing the effectiveness of recommender systems.\n",
        "\n",
        "- To measure the effectiveness of recommender systems, three types of evaluations are available – \n",
        "\n",
        "  - 1. user studies, \n",
        "  - 2. online evaluations (A/B tests), and \n",
        "  - 3. offline evaluations.\n",
        "  \n",
        "  \n",
        "- The commonly used metrics are the mean squared error (MSE) and root mean squared error(RMSE).\n",
        "\n",
        "- The information retrieval metrics such as precision and recall are useful to assess the quality of a recommender system.\n",
        "\n",
        "- Diversity, novelty and coverage are also considered as important aspects in evaluation.\n",
        "\n",
        "- User studies are rather small scale judgement technique. A few dozens or hundreds of users are presented recommendations created by different recommendation approaches, and then the users’ judge which recommendations are the best.\n",
        "\n",
        "- In A/B tests, recommendations are shown to thousands of users of a real product, and the recommender system randomly picks at least two different recommendation approaches to generate recommendations. \n",
        "\n",
        "- The effectiveness is measured with implicit measures of effectiveness such as conversion rate or click-through rate.\n",
        "\n",
        "- Offline evaluations are based on historic data. For example, a dataset that contains information about how users previously rated movies.\n",
        "\n",
        "- The effectiveness of recommendation system is then measured based on how well a recommendation approach can predict the users' ratings in the dataset."
      ]
    },
    {
      "cell_type": "markdown",
      "metadata": {
        "id": "jgaNYKc5MfY_"
      },
      "source": [
        "### **Beyond measures of accuracy**\n",
        "\n",
        "Research on recommender systems is focussed towards finding the most accurate recommendation algorithms. There are a number of factors that are also important. These are discussed below.\n",
        "\n",
        "- **Diversity** – Users tend to be more satisfied with recommendations when there is a higher intra-list diversity. For example, items from different artists.\n",
        "\n",
        "- **Recommender persistence** – Sometimes, it is more effective to re-show recommendations than showing new items. There are several reasons for this. Users may ignore items when they are shown for the first time. May be they do not inspect the recommendations initially.\n",
        "\n",
        "- **Privacy** – Recommender systems usually have to deal with privacy concerns because users have to reveal sensitive information.\n",
        "\n",
        "- **User demographics** – User demographics may influence how satisfied users are with recommendations.\n",
        "\n",
        "- **Robustness** – When users can participate in the recommender system, the issue of fraud must be addressed.\n",
        "\n",
        "- **Serendipity** – Serendipity is a measure of how surprising the recommendations are. For instance, a recommender system that recommends milk to a customer in a grocery store might be perfectly accurate. But it is not a good recommendation because it is an obvious item for the customer to buy.\n",
        "\n",
        "- **Trust** – A recommender system is of little value for a user if the user does not trust the system. Trust can be built by a recommender system by explaining how it generates recommendations, and why it recommends an item.\n",
        "\n",
        "- **Labelling** – User satisfaction with recommendations may be influenced by the labelling of the recommendations."
      ]
    },
    {
      "cell_type": "markdown",
      "metadata": {
        "id": "eKDJXinfMfZA"
      },
      "source": [
        "# **11. Applications of Recommender Systems** <a class=\"anchor\" id=\"11\"></a>\n",
        "\n",
        "\n",
        "[Table of Contents](#0.1)\n",
        "\n",
        "\n",
        "- There are lots of applications of recommender systems in data science field.\n",
        "\n",
        "- The music and video companies like Netflix, Youtube and Spotify use them to generate music and video recommendations.\n",
        "\n",
        "- Amazon uses it for product recommendations.\n",
        "\n",
        "- Social media platforms such as Facebook and Twitter use them for friends and content recommendations.\n",
        "\n",
        "- Restaurants and hotels use recommender systems to generate food related recommendations.\n",
        "\n",
        "- Recommender systems found applications in research articles, financial services and life insurance."
      ]
    },
    {
      "cell_type": "markdown",
      "metadata": {
        "id": "g7M8RTfVMfZA"
      },
      "source": [
        "# **12. Implement a Movie Recommender System in Python** <a class=\"anchor\" id=\"12\"></a>\n",
        "\n",
        "\n",
        "[Table of Contents](#0.1)\n",
        "\n",
        "\n",
        "- In this section, we will develop a very simple movie recommender system in Python that uses the correlation between the ratings assigned to different movies. Thus, we will find the similarity between the movies.\n",
        "\n",
        "\n",
        "- The dataset that we are going to use for this problem is the [MovieLens Dataset](https://www.kaggle.com/ayushimishra2809/movielens-dataset).\n",
        "\n",
        "\n",
        "- Let's import the basic libraries and import the data."
      ]
    },
    {
      "cell_type": "code",
      "execution_count": null,
      "metadata": {
        "id": "HnY4wNRfMfZA",
        "outputId": "da662583-7267-48cd-f2c0-691382c8a673"
      },
      "outputs": [
        {
          "name": "stdout",
          "output_type": "stream",
          "text": [
            "data/movies.csv\n",
            "data/ratings.csv\n"
          ]
        }
      ],
      "source": [
        "# This Python 3 environment comes with many helpful analytics libraries installed\n",
        "# It is defined by the kaggle/python Docker image: https://github.com/kaggle/docker-python\n",
        "# For example, here's several helpful packages to load\n",
        "\n",
        "import numpy as np # linear algebra\n",
        "import pandas as pd # data processing, CSV file I/O (e.g. pd.read_csv)\n",
        "\n",
        "\n",
        "import matplotlib.pyplot as plt # data visualization\n",
        "import seaborn as sns           # statistical data visualization\n",
        "%matplotlib inline\n",
        "plt.style.use('fivethirtyeight')\n",
        "\n",
        "\n",
        "# Input data files are available in the read-only \"../input/\" directory\n",
        "# For example, running this (by clicking run or pressing Shift+Enter) will list all files under the input directory\n",
        "\n",
        "import os\n",
        "for dirname, _, filenames in os.walk('data/'):\n",
        "    for filename in filenames:\n",
        "        print(os.path.join(dirname, filename))\n",
        "        \n",
        "        \n"
      ]
    },
    {
      "cell_type": "markdown",
      "metadata": {
        "id": "HtUBo8tAMfZC"
      },
      "source": [
        "- We can see that there are 2 files in the dataset - `ratings` and `movies`. Let's explore them."
      ]
    },
    {
      "cell_type": "markdown",
      "metadata": {
        "id": "ttDK48jCMfZC"
      },
      "source": [
        "### **Let's explore ratings file**"
      ]
    },
    {
      "cell_type": "code",
      "execution_count": null,
      "metadata": {
        "id": "HVG9D1LxMfZC",
        "outputId": "996326d3-191e-4601-f05d-336eeff19c31"
      },
      "outputs": [
        {
          "data": {
            "text/html": [
              "<div>\n",
              "<style scoped>\n",
              "    .dataframe tbody tr th:only-of-type {\n",
              "        vertical-align: middle;\n",
              "    }\n",
              "\n",
              "    .dataframe tbody tr th {\n",
              "        vertical-align: top;\n",
              "    }\n",
              "\n",
              "    .dataframe thead th {\n",
              "        text-align: right;\n",
              "    }\n",
              "</style>\n",
              "<table border=\"1\" class=\"dataframe\">\n",
              "  <thead>\n",
              "    <tr style=\"text-align: right;\">\n",
              "      <th></th>\n",
              "      <th>userId</th>\n",
              "      <th>movieId</th>\n",
              "      <th>rating</th>\n",
              "      <th>timestamp</th>\n",
              "    </tr>\n",
              "  </thead>\n",
              "  <tbody>\n",
              "    <tr>\n",
              "      <th>0</th>\n",
              "      <td>1</td>\n",
              "      <td>16</td>\n",
              "      <td>4.0</td>\n",
              "      <td>1217897793</td>\n",
              "    </tr>\n",
              "    <tr>\n",
              "      <th>1</th>\n",
              "      <td>1</td>\n",
              "      <td>24</td>\n",
              "      <td>1.5</td>\n",
              "      <td>1217895807</td>\n",
              "    </tr>\n",
              "    <tr>\n",
              "      <th>2</th>\n",
              "      <td>1</td>\n",
              "      <td>32</td>\n",
              "      <td>4.0</td>\n",
              "      <td>1217896246</td>\n",
              "    </tr>\n",
              "    <tr>\n",
              "      <th>3</th>\n",
              "      <td>1</td>\n",
              "      <td>47</td>\n",
              "      <td>4.0</td>\n",
              "      <td>1217896556</td>\n",
              "    </tr>\n",
              "    <tr>\n",
              "      <th>4</th>\n",
              "      <td>1</td>\n",
              "      <td>50</td>\n",
              "      <td>4.0</td>\n",
              "      <td>1217896523</td>\n",
              "    </tr>\n",
              "  </tbody>\n",
              "</table>\n",
              "</div>"
            ],
            "text/plain": [
              "   userId  movieId  rating   timestamp\n",
              "0       1       16     4.0  1217897793\n",
              "1       1       24     1.5  1217895807\n",
              "2       1       32     4.0  1217896246\n",
              "3       1       47     4.0  1217896556\n",
              "4       1       50     4.0  1217896523"
            ]
          },
          "execution_count": 4,
          "metadata": {},
          "output_type": "execute_result"
        }
      ],
      "source": [
        "ratings_file = 'data/ratings.csv'\n",
        "\n",
        "df_ratings = pd.read_csv(ratings_file)\n",
        "\n",
        "df_ratings.head()\n"
      ]
    },
    {
      "cell_type": "markdown",
      "metadata": {
        "id": "Mt3d7cawMfZC"
      },
      "source": [
        "- We can see from the output that the `ratings.csv` file contains the - `userId`, `movieId`, `ratings` and `timestamp` attributes. \n",
        "\n",
        "- Each row in the dataset corresponds to one rating. The userId column contains the ID of the user who left the rating. The movieId column contains the Id of the movie, the rating column contains the rating left by the user. Ratings can have values between 1 and 5. \n",
        "\n",
        "- Finally, the timestamp refers to the time at which the user left the rating.\n",
        "\n",
        "- There is one problem with this dataset. It contains the IDs of the movies but not their titles. We will need movie names of the movies to recommend. The movie names are stored in the `movies.csv` file. So, let's explore that file."
      ]
    },
    {
      "cell_type": "markdown",
      "metadata": {
        "id": "30HevAZRMfZC"
      },
      "source": [
        "### **Let's explore movies file**"
      ]
    },
    {
      "cell_type": "code",
      "execution_count": null,
      "metadata": {
        "id": "-Tw-PoPJMfZD",
        "outputId": "d006b09d-8fa7-4ae4-dcf7-080a6936b44f"
      },
      "outputs": [
        {
          "data": {
            "text/html": [
              "<div>\n",
              "<style scoped>\n",
              "    .dataframe tbody tr th:only-of-type {\n",
              "        vertical-align: middle;\n",
              "    }\n",
              "\n",
              "    .dataframe tbody tr th {\n",
              "        vertical-align: top;\n",
              "    }\n",
              "\n",
              "    .dataframe thead th {\n",
              "        text-align: right;\n",
              "    }\n",
              "</style>\n",
              "<table border=\"1\" class=\"dataframe\">\n",
              "  <thead>\n",
              "    <tr style=\"text-align: right;\">\n",
              "      <th></th>\n",
              "      <th>movieId</th>\n",
              "      <th>title</th>\n",
              "      <th>genres</th>\n",
              "    </tr>\n",
              "  </thead>\n",
              "  <tbody>\n",
              "    <tr>\n",
              "      <th>0</th>\n",
              "      <td>1</td>\n",
              "      <td>Toy Story (1995)</td>\n",
              "      <td>Adventure|Animation|Children|Comedy|Fantasy</td>\n",
              "    </tr>\n",
              "    <tr>\n",
              "      <th>1</th>\n",
              "      <td>2</td>\n",
              "      <td>Jumanji (1995)</td>\n",
              "      <td>Adventure|Children|Fantasy</td>\n",
              "    </tr>\n",
              "    <tr>\n",
              "      <th>2</th>\n",
              "      <td>3</td>\n",
              "      <td>Grumpier Old Men (1995)</td>\n",
              "      <td>Comedy|Romance</td>\n",
              "    </tr>\n",
              "    <tr>\n",
              "      <th>3</th>\n",
              "      <td>4</td>\n",
              "      <td>Waiting to Exhale (1995)</td>\n",
              "      <td>Comedy|Drama|Romance</td>\n",
              "    </tr>\n",
              "    <tr>\n",
              "      <th>4</th>\n",
              "      <td>5</td>\n",
              "      <td>Father of the Bride Part II (1995)</td>\n",
              "      <td>Comedy</td>\n",
              "    </tr>\n",
              "  </tbody>\n",
              "</table>\n",
              "</div>"
            ],
            "text/plain": [
              "   movieId                               title  \\\n",
              "0        1                    Toy Story (1995)   \n",
              "1        2                      Jumanji (1995)   \n",
              "2        3             Grumpier Old Men (1995)   \n",
              "3        4            Waiting to Exhale (1995)   \n",
              "4        5  Father of the Bride Part II (1995)   \n",
              "\n",
              "                                        genres  \n",
              "0  Adventure|Animation|Children|Comedy|Fantasy  \n",
              "1                   Adventure|Children|Fantasy  \n",
              "2                               Comedy|Romance  \n",
              "3                         Comedy|Drama|Romance  \n",
              "4                                       Comedy  "
            ]
          },
          "execution_count": 5,
          "metadata": {},
          "output_type": "execute_result"
        }
      ],
      "source": [
        "movies_file = 'data/movies.csv'\n",
        "\n",
        "df_movies = pd.read_csv(movies_file)\n",
        "\n",
        "df_movies.head()"
      ]
    },
    {
      "cell_type": "markdown",
      "metadata": {
        "id": "tgmkrA6jMfZD"
      },
      "source": [
        "- We can see that, this dataset contains `movieId`, `the title of the movie`, and its `genre`. \n",
        "\n",
        "- We need a dataset that contains the `userId`, `movie title` and its `ratings`. \n",
        "\n",
        "- We have this information in two different files: `ratings.csv` and `movies.csv`. \n",
        "\n",
        "- To get our desired information in a single dataframe, we can merge the two dataframes objects on the `movieId` column since it is common between the two dataframes.\n",
        "\n",
        "- We can do this using the `merge()` function from the Pandas library, as shown below."
      ]
    },
    {
      "cell_type": "code",
      "execution_count": null,
      "metadata": {
        "id": "Tv4cAUupMfZD",
        "outputId": "08cfb418-45b5-4c72-9040-cdcfa44c1580"
      },
      "outputs": [
        {
          "data": {
            "text/html": [
              "<div>\n",
              "<style scoped>\n",
              "    .dataframe tbody tr th:only-of-type {\n",
              "        vertical-align: middle;\n",
              "    }\n",
              "\n",
              "    .dataframe tbody tr th {\n",
              "        vertical-align: top;\n",
              "    }\n",
              "\n",
              "    .dataframe thead th {\n",
              "        text-align: right;\n",
              "    }\n",
              "</style>\n",
              "<table border=\"1\" class=\"dataframe\">\n",
              "  <thead>\n",
              "    <tr style=\"text-align: right;\">\n",
              "      <th></th>\n",
              "      <th>userId</th>\n",
              "      <th>movieId</th>\n",
              "      <th>rating</th>\n",
              "      <th>timestamp</th>\n",
              "      <th>title</th>\n",
              "      <th>genres</th>\n",
              "    </tr>\n",
              "  </thead>\n",
              "  <tbody>\n",
              "    <tr>\n",
              "      <th>0</th>\n",
              "      <td>1</td>\n",
              "      <td>16</td>\n",
              "      <td>4.0</td>\n",
              "      <td>1217897793</td>\n",
              "      <td>Casino (1995)</td>\n",
              "      <td>Crime|Drama</td>\n",
              "    </tr>\n",
              "    <tr>\n",
              "      <th>1</th>\n",
              "      <td>9</td>\n",
              "      <td>16</td>\n",
              "      <td>4.0</td>\n",
              "      <td>842686699</td>\n",
              "      <td>Casino (1995)</td>\n",
              "      <td>Crime|Drama</td>\n",
              "    </tr>\n",
              "    <tr>\n",
              "      <th>2</th>\n",
              "      <td>12</td>\n",
              "      <td>16</td>\n",
              "      <td>1.5</td>\n",
              "      <td>1144396284</td>\n",
              "      <td>Casino (1995)</td>\n",
              "      <td>Crime|Drama</td>\n",
              "    </tr>\n",
              "    <tr>\n",
              "      <th>3</th>\n",
              "      <td>24</td>\n",
              "      <td>16</td>\n",
              "      <td>4.0</td>\n",
              "      <td>963468757</td>\n",
              "      <td>Casino (1995)</td>\n",
              "      <td>Crime|Drama</td>\n",
              "    </tr>\n",
              "    <tr>\n",
              "      <th>4</th>\n",
              "      <td>29</td>\n",
              "      <td>16</td>\n",
              "      <td>3.0</td>\n",
              "      <td>836820223</td>\n",
              "      <td>Casino (1995)</td>\n",
              "      <td>Crime|Drama</td>\n",
              "    </tr>\n",
              "  </tbody>\n",
              "</table>\n",
              "</div>"
            ],
            "text/plain": [
              "   userId  movieId  rating   timestamp          title       genres\n",
              "0       1       16     4.0  1217897793  Casino (1995)  Crime|Drama\n",
              "1       9       16     4.0   842686699  Casino (1995)  Crime|Drama\n",
              "2      12       16     1.5  1144396284  Casino (1995)  Crime|Drama\n",
              "3      24       16     4.0   963468757  Casino (1995)  Crime|Drama\n",
              "4      29       16     3.0   836820223  Casino (1995)  Crime|Drama"
            ]
          },
          "execution_count": 6,
          "metadata": {},
          "output_type": "execute_result"
        }
      ],
      "source": [
        "movie_data = pd.merge(df_ratings, df_movies, on='movieId')\n",
        "\n",
        "movie_data.head()"
      ]
    },
    {
      "cell_type": "markdown",
      "metadata": {
        "id": "-Jbnzrb6MfZD"
      },
      "source": [
        "- We can see our newly created dataframe contains `userId`, `title` and `rating of the movie` as required.\n",
        "\n",
        "- Now let's take a look at the average rating of each movie. To do so, we can group the dataset by the title of the movie and then calculate the mean of the rating for each movie. We will then display the first five movies along with their average rating using the `head()` method as follows:"
      ]
    },
    {
      "cell_type": "code",
      "execution_count": null,
      "metadata": {
        "id": "RwQr_EfPMfZD",
        "outputId": "2c9bda21-5d29-42d2-ddea-25f21bddeb58"
      },
      "outputs": [
        {
          "data": {
            "text/plain": [
              "title\n",
              "'71 (2014)                                 3.500\n",
              "'Hellboy': The Seeds of Creation (2004)    3.000\n",
              "'Round Midnight (1986)                     2.500\n",
              "'Til There Was You (1997)                  4.000\n",
              "'burbs, The (1989)                         3.125\n",
              "Name: rating, dtype: float64"
            ]
          },
          "execution_count": 9,
          "metadata": {},
          "output_type": "execute_result"
        }
      ],
      "source": [
        "movie_data.groupby('title')['rating'].mean().head()"
      ]
    },
    {
      "cell_type": "markdown",
      "metadata": {
        "id": "jpTHCHoSMfZE"
      },
      "source": [
        "- We can see that the average ratings are not sorted. Let's sort the ratings in the descending order of their average ratings:"
      ]
    },
    {
      "cell_type": "code",
      "execution_count": null,
      "metadata": {
        "id": "16RNmJYsMfZE",
        "outputId": "bc5b2dd4-f6a7-4e9b-ba4a-5f63f4ddfd50"
      },
      "outputs": [
        {
          "data": {
            "text/plain": [
              "title\n",
              "Saddest Music in the World, The (2003)    5.0\n",
              "Interstate 60 (2002)                      5.0\n",
              "Gunfighter, The (1950)                    5.0\n",
              "Heima (2007)                              5.0\n",
              "Limelight (1952)                          5.0\n",
              "Name: rating, dtype: float64"
            ]
          },
          "execution_count": 10,
          "metadata": {},
          "output_type": "execute_result"
        }
      ],
      "source": [
        "movie_data.groupby('title')['rating'].mean().sort_values(ascending=False).head()"
      ]
    },
    {
      "cell_type": "markdown",
      "metadata": {
        "id": "yS-Z6hkcMfZE"
      },
      "source": [
        "- The movies have now been sorted according to the ascending order of their ratings. \n",
        "\n",
        "- However, there is a problem. A movie can make it to the top of the above list even if only a single user has given it five stars. Therefore, the above stats can be misleading. Normally, a movie which is really a good one gets a higher rating by a large number of users.\n",
        "\n",
        "- Let's now plot the total number of ratings for a movie:"
      ]
    },
    {
      "cell_type": "code",
      "execution_count": null,
      "metadata": {
        "id": "L0vrPC3PMfZE",
        "outputId": "d6c7d085-6570-4755-adc6-5d8697d87c3a"
      },
      "outputs": [
        {
          "data": {
            "text/plain": [
              "title\n",
              "Pulp Fiction (1994)                 325\n",
              "Forrest Gump (1994)                 311\n",
              "Shawshank Redemption, The (1994)    308\n",
              "Jurassic Park (1993)                294\n",
              "Silence of the Lambs, The (1991)    290\n",
              "Name: rating, dtype: int64"
            ]
          },
          "execution_count": 11,
          "metadata": {},
          "output_type": "execute_result"
        }
      ],
      "source": [
        "movie_data.groupby('title')['rating'].count().sort_values(ascending=False).head()"
      ]
    },
    {
      "cell_type": "markdown",
      "metadata": {
        "id": "IOlDkkCLMfZE"
      },
      "source": [
        "- Now, we can see some great movies at the top. The above list supports our point that good movies normally receive higher ratings. Now we know that both the average rating per movie and the number of ratings per movie are important attributes. \n",
        "\n",
        "- So, let's create a new dataframe that contains both of these attributes."
      ]
    },
    {
      "cell_type": "markdown",
      "metadata": {
        "id": "bhUMMnPdMfZE"
      },
      "source": [
        "- We will create a new dataframe called `ratings_mean_count` and first add the average rating of each movie to this dataframe as follows-"
      ]
    },
    {
      "cell_type": "code",
      "execution_count": null,
      "metadata": {
        "id": "soepJF5sMfZF"
      },
      "outputs": [],
      "source": [
        "ratings_mean_count = pd.DataFrame(movie_data.groupby('title')['rating'].mean())"
      ]
    },
    {
      "cell_type": "markdown",
      "metadata": {
        "id": "CicekOyWMfZF"
      },
      "source": [
        "- Next up, we will add the number of ratings for a movie to the `ratings_mean_count` dataframe as follows-"
      ]
    },
    {
      "cell_type": "code",
      "execution_count": null,
      "metadata": {
        "id": "LfXdFbdEMfZF"
      },
      "outputs": [],
      "source": [
        "ratings_mean_count['rating_counts'] = pd.DataFrame(movie_data.groupby('title')['rating'].count())"
      ]
    },
    {
      "cell_type": "markdown",
      "metadata": {
        "id": "XUuf-CPoMfZF"
      },
      "source": [
        "- Now, let's preview our new dataframe."
      ]
    },
    {
      "cell_type": "code",
      "execution_count": null,
      "metadata": {
        "id": "i_YV9K-WMfZF",
        "outputId": "c4b9cbf4-0519-4101-8815-46b186b2a68d"
      },
      "outputs": [
        {
          "data": {
            "text/html": [
              "<div>\n",
              "<style scoped>\n",
              "    .dataframe tbody tr th:only-of-type {\n",
              "        vertical-align: middle;\n",
              "    }\n",
              "\n",
              "    .dataframe tbody tr th {\n",
              "        vertical-align: top;\n",
              "    }\n",
              "\n",
              "    .dataframe thead th {\n",
              "        text-align: right;\n",
              "    }\n",
              "</style>\n",
              "<table border=\"1\" class=\"dataframe\">\n",
              "  <thead>\n",
              "    <tr style=\"text-align: right;\">\n",
              "      <th></th>\n",
              "      <th>rating</th>\n",
              "      <th>rating_counts</th>\n",
              "    </tr>\n",
              "    <tr>\n",
              "      <th>title</th>\n",
              "      <th></th>\n",
              "      <th></th>\n",
              "    </tr>\n",
              "  </thead>\n",
              "  <tbody>\n",
              "    <tr>\n",
              "      <th>'71 (2014)</th>\n",
              "      <td>3.500000</td>\n",
              "      <td>1</td>\n",
              "    </tr>\n",
              "    <tr>\n",
              "      <th>'Hellboy': The Seeds of Creation (2004)</th>\n",
              "      <td>3.000000</td>\n",
              "      <td>1</td>\n",
              "    </tr>\n",
              "    <tr>\n",
              "      <th>'Round Midnight (1986)</th>\n",
              "      <td>2.500000</td>\n",
              "      <td>1</td>\n",
              "    </tr>\n",
              "    <tr>\n",
              "      <th>'Til There Was You (1997)</th>\n",
              "      <td>4.000000</td>\n",
              "      <td>3</td>\n",
              "    </tr>\n",
              "    <tr>\n",
              "      <th>'burbs, The (1989)</th>\n",
              "      <td>3.125000</td>\n",
              "      <td>20</td>\n",
              "    </tr>\n",
              "    <tr>\n",
              "      <th>'night Mother (1986)</th>\n",
              "      <td>3.000000</td>\n",
              "      <td>1</td>\n",
              "    </tr>\n",
              "    <tr>\n",
              "      <th>(500) Days of Summer (2009)</th>\n",
              "      <td>3.932432</td>\n",
              "      <td>37</td>\n",
              "    </tr>\n",
              "    <tr>\n",
              "      <th>*batteries not included (1987)</th>\n",
              "      <td>3.318182</td>\n",
              "      <td>11</td>\n",
              "    </tr>\n",
              "    <tr>\n",
              "      <th>...And Justice for All (1979)</th>\n",
              "      <td>3.650000</td>\n",
              "      <td>10</td>\n",
              "    </tr>\n",
              "    <tr>\n",
              "      <th>10 (1979)</th>\n",
              "      <td>2.000000</td>\n",
              "      <td>3</td>\n",
              "    </tr>\n",
              "  </tbody>\n",
              "</table>\n",
              "</div>"
            ],
            "text/plain": [
              "                                           rating  rating_counts\n",
              "title                                                           \n",
              "'71 (2014)                               3.500000              1\n",
              "'Hellboy': The Seeds of Creation (2004)  3.000000              1\n",
              "'Round Midnight (1986)                   2.500000              1\n",
              "'Til There Was You (1997)                4.000000              3\n",
              "'burbs, The (1989)                       3.125000             20\n",
              "'night Mother (1986)                     3.000000              1\n",
              "(500) Days of Summer (2009)              3.932432             37\n",
              "*batteries not included (1987)           3.318182             11\n",
              "...And Justice for All (1979)            3.650000             10\n",
              "10 (1979)                                2.000000              3"
            ]
          },
          "execution_count": 15,
          "metadata": {},
          "output_type": "execute_result"
        }
      ],
      "source": [
        "ratings_mean_count.head(10)"
      ]
    },
    {
      "cell_type": "markdown",
      "metadata": {
        "id": "IE7b_3ebMfZF"
      },
      "source": [
        "- We can see movie title, along with the average rating and number of ratings for the movies."
      ]
    },
    {
      "cell_type": "markdown",
      "metadata": {
        "id": "IQM2wZnhMfZF"
      },
      "source": [
        "- Now, let's plot a histogram for the number of ratings represented by the `rating_counts` column in the above dataframe. "
      ]
    },
    {
      "cell_type": "code",
      "execution_count": null,
      "metadata": {
        "id": "3WMccfnaMfZG",
        "outputId": "c79e101c-7910-43c7-dbb0-41a4e07f1797"
      },
      "outputs": [
        {
          "data": {
            "text/plain": [
              "<Axes: >"
            ]
          },
          "execution_count": 16,
          "metadata": {},
          "output_type": "execute_result"
        },
        {
          "data": {
            "image/png": "[encoded data removed]",
            "text/plain": [
              "<Figure size 1000x800 with 1 Axes>"
            ]
          },
          "metadata": {},
          "output_type": "display_data"
        }
      ],
      "source": [
        "plt.figure(figsize=(10,8))\n",
        "plt.rcParams['patch.force_edgecolor'] = True\n",
        "ratings_mean_count['rating_counts'].hist(bins=50)"
      ]
    },
    {
      "cell_type": "markdown",
      "metadata": {
        "id": "2cDPRamoMfZG"
      },
      "source": [
        "- From the above plot, we can see that most of the movies have received less than 50 ratings and there are no movies having more than 100 ratings."
      ]
    },
    {
      "cell_type": "markdown",
      "metadata": {
        "id": "tJLQhY3PMfZG"
      },
      "source": [
        "- Now, we will plot a histogram for average ratings."
      ]
    },
    {
      "cell_type": "code",
      "execution_count": null,
      "metadata": {
        "id": "dndHk9_fMfZG",
        "outputId": "523b2e5d-9586-4d23-bf33-8d93054ed914"
      },
      "outputs": [
        {
          "data": {
            "text/plain": [
              "<Axes: >"
            ]
          },
          "execution_count": 17,
          "metadata": {},
          "output_type": "execute_result"
        },
        {
          "data": {
            "image/png": "[encoded data removed]",
            "text/plain": [
              "<Figure size 1000x800 with 1 Axes>"
            ]
          },
          "metadata": {},
          "output_type": "display_data"
        }
      ],
      "source": [
        "plt.figure(figsize=(10,8))\n",
        "plt.rcParams['patch.force_edgecolor'] = True\n",
        "ratings_mean_count['rating'].hist(bins=50)"
      ]
    },
    {
      "cell_type": "markdown",
      "metadata": {
        "id": "28zqEH7-MfZG"
      },
      "source": [
        "- We can see that the integer values have taller bars than the floating values since most of the users assign rating as integer value i.e. 1, 2, 3, 4 or 5. \n",
        "\n",
        "- Furthermore, it is evident that the data has a weak normal distribution with the mean of around 3.5. There are a few outliers in the data as well."
      ]
    },
    {
      "cell_type": "markdown",
      "metadata": {
        "id": "-Bm11lpjMfZG"
      },
      "source": [
        "- Movies with a higher number of ratings usually have a high average rating as well since a good movie is normally well-known and a well-known movie is watched by a large number of people, and thus usually has a higher rating. \n",
        "\n",
        "- Let's see if this is also the case with the movies in our dataset. We will plot average ratings against the number of ratings."
      ]
    },
    {
      "cell_type": "code",
      "execution_count": null,
      "metadata": {
        "id": "JsJ9kOtBMfZH",
        "outputId": "b567bb25-0776-44fe-f009-d66f50ce2d1f"
      },
      "outputs": [
        {
          "data": {
            "text/plain": [
              "<seaborn.axisgrid.JointGrid at 0x277291fc3a0>"
            ]
          },
          "execution_count": 18,
          "metadata": {},
          "output_type": "execute_result"
        },
        {
          "data": {
            "text/plain": [
              "<Figure size 1000x800 with 0 Axes>"
            ]
          },
          "metadata": {},
          "output_type": "display_data"
        },
        {
          "data": {
            "image/png": "[encoded data removed]",
            "text/plain": [
              "<Figure size 600x600 with 3 Axes>"
            ]
          },
          "metadata": {},
          "output_type": "display_data"
        }
      ],
      "source": [
        "plt.figure(figsize=(10,8))\n",
        "plt.rcParams['patch.force_edgecolor'] = True\n",
        "sns.jointplot(x='rating', y='rating_counts', data=ratings_mean_count, alpha=0.4)"
      ]
    },
    {
      "cell_type": "markdown",
      "metadata": {
        "id": "yDGlyN5xMfZH"
      },
      "source": [
        "- The graph shows that, in general, movies with higher average ratings actually have more number of ratings, compared with movies that have lower average ratings."
      ]
    },
    {
      "cell_type": "markdown",
      "metadata": {
        "id": "sv4-4q8eMfZH"
      },
      "source": [
        "# **13. Finding Similarities Between Movies** <a class=\"anchor\" id=\"13\"></a>\n",
        "\n",
        "\n",
        "[Table of Contents](#0.1)\n",
        "\n",
        "\n",
        "- Now, it is the time to find the similarity between the movies.\n",
        "\n",
        "- We will use the correlation between the ratings of a movie as the similarity metric. \n",
        "\n",
        "- To find the correlation between the ratings of the movie, we need to create a matrix where each column is a movie name and each row contains the rating assigned by a specific user to that movie. \n",
        "\n",
        "- This matrix will have a lot of null values since every movie is not rated by every user."
      ]
    },
    {
      "cell_type": "markdown",
      "metadata": {
        "id": "EljAiJyiMfZH"
      },
      "source": [
        "- We will create the matrix of movie titles and corresponding user ratings."
      ]
    },
    {
      "cell_type": "code",
      "execution_count": null,
      "metadata": {
        "id": "iaouB12nMfZH",
        "outputId": "0e5bd7ba-23ae-4649-b18d-a18f51b1bf3b"
      },
      "outputs": [
        {
          "data": {
            "text/html": [
              "<div>\n",
              "<style scoped>\n",
              "    .dataframe tbody tr th:only-of-type {\n",
              "        vertical-align: middle;\n",
              "    }\n",
              "\n",
              "    .dataframe tbody tr th {\n",
              "        vertical-align: top;\n",
              "    }\n",
              "\n",
              "    .dataframe thead th {\n",
              "        text-align: right;\n",
              "    }\n",
              "</style>\n",
              "<table border=\"1\" class=\"dataframe\">\n",
              "  <thead>\n",
              "    <tr style=\"text-align: right;\">\n",
              "      <th>title</th>\n",
              "      <th>'71 (2014)</th>\n",
              "      <th>'Hellboy': The Seeds of Creation (2004)</th>\n",
              "      <th>'Round Midnight (1986)</th>\n",
              "      <th>'Til There Was You (1997)</th>\n",
              "      <th>'burbs, The (1989)</th>\n",
              "      <th>'night Mother (1986)</th>\n",
              "      <th>(500) Days of Summer (2009)</th>\n",
              "      <th>*batteries not included (1987)</th>\n",
              "      <th>...And Justice for All (1979)</th>\n",
              "      <th>10 (1979)</th>\n",
              "      <th>...</th>\n",
              "      <th>[REC] (2007)</th>\n",
              "      <th>[REC]² (2009)</th>\n",
              "      <th>[REC]³ 3 Génesis (2012)</th>\n",
              "      <th>a/k/a Tommy Chong (2005)</th>\n",
              "      <th>eXistenZ (1999)</th>\n",
              "      <th>loudQUIETloud: A Film About the Pixies (2006)</th>\n",
              "      <th>xXx (2002)</th>\n",
              "      <th>xXx: State of the Union (2005)</th>\n",
              "      <th>¡Three Amigos! (1986)</th>\n",
              "      <th>À nous la liberté (Freedom for Us) (1931)</th>\n",
              "    </tr>\n",
              "    <tr>\n",
              "      <th>userId</th>\n",
              "      <th></th>\n",
              "      <th></th>\n",
              "      <th></th>\n",
              "      <th></th>\n",
              "      <th></th>\n",
              "      <th></th>\n",
              "      <th></th>\n",
              "      <th></th>\n",
              "      <th></th>\n",
              "      <th></th>\n",
              "      <th></th>\n",
              "      <th></th>\n",
              "      <th></th>\n",
              "      <th></th>\n",
              "      <th></th>\n",
              "      <th></th>\n",
              "      <th></th>\n",
              "      <th></th>\n",
              "      <th></th>\n",
              "      <th></th>\n",
              "      <th></th>\n",
              "    </tr>\n",
              "  </thead>\n",
              "  <tbody>\n",
              "    <tr>\n",
              "      <th>1</th>\n",
              "      <td>NaN</td>\n",
              "      <td>NaN</td>\n",
              "      <td>NaN</td>\n",
              "      <td>NaN</td>\n",
              "      <td>NaN</td>\n",
              "      <td>NaN</td>\n",
              "      <td>NaN</td>\n",
              "      <td>NaN</td>\n",
              "      <td>NaN</td>\n",
              "      <td>NaN</td>\n",
              "      <td>...</td>\n",
              "      <td>NaN</td>\n",
              "      <td>NaN</td>\n",
              "      <td>NaN</td>\n",
              "      <td>NaN</td>\n",
              "      <td>NaN</td>\n",
              "      <td>NaN</td>\n",
              "      <td>NaN</td>\n",
              "      <td>NaN</td>\n",
              "      <td>NaN</td>\n",
              "      <td>NaN</td>\n",
              "    </tr>\n",
              "    <tr>\n",
              "      <th>2</th>\n",
              "      <td>NaN</td>\n",
              "      <td>NaN</td>\n",
              "      <td>NaN</td>\n",
              "      <td>NaN</td>\n",
              "      <td>NaN</td>\n",
              "      <td>NaN</td>\n",
              "      <td>NaN</td>\n",
              "      <td>NaN</td>\n",
              "      <td>NaN</td>\n",
              "      <td>NaN</td>\n",
              "      <td>...</td>\n",
              "      <td>NaN</td>\n",
              "      <td>NaN</td>\n",
              "      <td>NaN</td>\n",
              "      <td>NaN</td>\n",
              "      <td>NaN</td>\n",
              "      <td>NaN</td>\n",
              "      <td>NaN</td>\n",
              "      <td>NaN</td>\n",
              "      <td>NaN</td>\n",
              "      <td>NaN</td>\n",
              "    </tr>\n",
              "    <tr>\n",
              "      <th>3</th>\n",
              "      <td>NaN</td>\n",
              "      <td>NaN</td>\n",
              "      <td>NaN</td>\n",
              "      <td>NaN</td>\n",
              "      <td>NaN</td>\n",
              "      <td>NaN</td>\n",
              "      <td>NaN</td>\n",
              "      <td>NaN</td>\n",
              "      <td>NaN</td>\n",
              "      <td>NaN</td>\n",
              "      <td>...</td>\n",
              "      <td>NaN</td>\n",
              "      <td>NaN</td>\n",
              "      <td>NaN</td>\n",
              "      <td>NaN</td>\n",
              "      <td>NaN</td>\n",
              "      <td>NaN</td>\n",
              "      <td>NaN</td>\n",
              "      <td>NaN</td>\n",
              "      <td>NaN</td>\n",
              "      <td>NaN</td>\n",
              "    </tr>\n",
              "    <tr>\n",
              "      <th>4</th>\n",
              "      <td>NaN</td>\n",
              "      <td>NaN</td>\n",
              "      <td>NaN</td>\n",
              "      <td>NaN</td>\n",
              "      <td>NaN</td>\n",
              "      <td>NaN</td>\n",
              "      <td>NaN</td>\n",
              "      <td>NaN</td>\n",
              "      <td>NaN</td>\n",
              "      <td>NaN</td>\n",
              "      <td>...</td>\n",
              "      <td>NaN</td>\n",
              "      <td>NaN</td>\n",
              "      <td>NaN</td>\n",
              "      <td>NaN</td>\n",
              "      <td>NaN</td>\n",
              "      <td>NaN</td>\n",
              "      <td>NaN</td>\n",
              "      <td>NaN</td>\n",
              "      <td>NaN</td>\n",
              "      <td>NaN</td>\n",
              "    </tr>\n",
              "    <tr>\n",
              "      <th>5</th>\n",
              "      <td>NaN</td>\n",
              "      <td>NaN</td>\n",
              "      <td>NaN</td>\n",
              "      <td>NaN</td>\n",
              "      <td>NaN</td>\n",
              "      <td>NaN</td>\n",
              "      <td>NaN</td>\n",
              "      <td>NaN</td>\n",
              "      <td>NaN</td>\n",
              "      <td>NaN</td>\n",
              "      <td>...</td>\n",
              "      <td>NaN</td>\n",
              "      <td>NaN</td>\n",
              "      <td>NaN</td>\n",
              "      <td>NaN</td>\n",
              "      <td>NaN</td>\n",
              "      <td>NaN</td>\n",
              "      <td>NaN</td>\n",
              "      <td>NaN</td>\n",
              "      <td>NaN</td>\n",
              "      <td>NaN</td>\n",
              "    </tr>\n",
              "    <tr>\n",
              "      <th>6</th>\n",
              "      <td>NaN</td>\n",
              "      <td>NaN</td>\n",
              "      <td>NaN</td>\n",
              "      <td>NaN</td>\n",
              "      <td>NaN</td>\n",
              "      <td>NaN</td>\n",
              "      <td>NaN</td>\n",
              "      <td>NaN</td>\n",
              "      <td>NaN</td>\n",
              "      <td>NaN</td>\n",
              "      <td>...</td>\n",
              "      <td>NaN</td>\n",
              "      <td>NaN</td>\n",
              "      <td>NaN</td>\n",
              "      <td>NaN</td>\n",
              "      <td>NaN</td>\n",
              "      <td>NaN</td>\n",
              "      <td>NaN</td>\n",
              "      <td>NaN</td>\n",
              "      <td>NaN</td>\n",
              "      <td>NaN</td>\n",
              "    </tr>\n",
              "    <tr>\n",
              "      <th>7</th>\n",
              "      <td>NaN</td>\n",
              "      <td>NaN</td>\n",
              "      <td>NaN</td>\n",
              "      <td>NaN</td>\n",
              "      <td>NaN</td>\n",
              "      <td>NaN</td>\n",
              "      <td>NaN</td>\n",
              "      <td>NaN</td>\n",
              "      <td>NaN</td>\n",
              "      <td>NaN</td>\n",
              "      <td>...</td>\n",
              "      <td>NaN</td>\n",
              "      <td>NaN</td>\n",
              "      <td>NaN</td>\n",
              "      <td>NaN</td>\n",
              "      <td>NaN</td>\n",
              "      <td>NaN</td>\n",
              "      <td>NaN</td>\n",
              "      <td>NaN</td>\n",
              "      <td>NaN</td>\n",
              "      <td>NaN</td>\n",
              "    </tr>\n",
              "    <tr>\n",
              "      <th>8</th>\n",
              "      <td>NaN</td>\n",
              "      <td>NaN</td>\n",
              "      <td>NaN</td>\n",
              "      <td>NaN</td>\n",
              "      <td>NaN</td>\n",
              "      <td>NaN</td>\n",
              "      <td>NaN</td>\n",
              "      <td>NaN</td>\n",
              "      <td>NaN</td>\n",
              "      <td>NaN</td>\n",
              "      <td>...</td>\n",
              "      <td>NaN</td>\n",
              "      <td>NaN</td>\n",
              "      <td>NaN</td>\n",
              "      <td>NaN</td>\n",
              "      <td>NaN</td>\n",
              "      <td>NaN</td>\n",
              "      <td>NaN</td>\n",
              "      <td>NaN</td>\n",
              "      <td>NaN</td>\n",
              "      <td>NaN</td>\n",
              "    </tr>\n",
              "    <tr>\n",
              "      <th>9</th>\n",
              "      <td>NaN</td>\n",
              "      <td>NaN</td>\n",
              "      <td>NaN</td>\n",
              "      <td>NaN</td>\n",
              "      <td>NaN</td>\n",
              "      <td>NaN</td>\n",
              "      <td>NaN</td>\n",
              "      <td>NaN</td>\n",
              "      <td>NaN</td>\n",
              "      <td>NaN</td>\n",
              "      <td>...</td>\n",
              "      <td>NaN</td>\n",
              "      <td>NaN</td>\n",
              "      <td>NaN</td>\n",
              "      <td>NaN</td>\n",
              "      <td>NaN</td>\n",
              "      <td>NaN</td>\n",
              "      <td>NaN</td>\n",
              "      <td>NaN</td>\n",
              "      <td>NaN</td>\n",
              "      <td>NaN</td>\n",
              "    </tr>\n",
              "    <tr>\n",
              "      <th>10</th>\n",
              "      <td>NaN</td>\n",
              "      <td>NaN</td>\n",
              "      <td>NaN</td>\n",
              "      <td>NaN</td>\n",
              "      <td>NaN</td>\n",
              "      <td>NaN</td>\n",
              "      <td>NaN</td>\n",
              "      <td>NaN</td>\n",
              "      <td>NaN</td>\n",
              "      <td>NaN</td>\n",
              "      <td>...</td>\n",
              "      <td>NaN</td>\n",
              "      <td>NaN</td>\n",
              "      <td>NaN</td>\n",
              "      <td>NaN</td>\n",
              "      <td>NaN</td>\n",
              "      <td>NaN</td>\n",
              "      <td>NaN</td>\n",
              "      <td>NaN</td>\n",
              "      <td>NaN</td>\n",
              "      <td>NaN</td>\n",
              "    </tr>\n",
              "  </tbody>\n",
              "</table>\n",
              "<p>10 rows × 10323 columns</p>\n",
              "</div>"
            ],
            "text/plain": [
              "title   '71 (2014)  'Hellboy': The Seeds of Creation (2004)  \\\n",
              "userId                                                        \n",
              "1              NaN                                      NaN   \n",
              "2              NaN                                      NaN   \n",
              "3              NaN                                      NaN   \n",
              "4              NaN                                      NaN   \n",
              "5              NaN                                      NaN   \n",
              "6              NaN                                      NaN   \n",
              "7              NaN                                      NaN   \n",
              "8              NaN                                      NaN   \n",
              "9              NaN                                      NaN   \n",
              "10             NaN                                      NaN   \n",
              "\n",
              "title   'Round Midnight (1986)  'Til There Was You (1997)  'burbs, The (1989)  \\\n",
              "userId                                                                          \n",
              "1                          NaN                        NaN                 NaN   \n",
              "2                          NaN                        NaN                 NaN   \n",
              "3                          NaN                        NaN                 NaN   \n",
              "4                          NaN                        NaN                 NaN   \n",
              "5                          NaN                        NaN                 NaN   \n",
              "6                          NaN                        NaN                 NaN   \n",
              "7                          NaN                        NaN                 NaN   \n",
              "8                          NaN                        NaN                 NaN   \n",
              "9                          NaN                        NaN                 NaN   \n",
              "10                         NaN                        NaN                 NaN   \n",
              "\n",
              "title   'night Mother (1986)  (500) Days of Summer (2009)  \\\n",
              "userId                                                      \n",
              "1                        NaN                          NaN   \n",
              "2                        NaN                          NaN   \n",
              "3                        NaN                          NaN   \n",
              "4                        NaN                          NaN   \n",
              "5                        NaN                          NaN   \n",
              "6                        NaN                          NaN   \n",
              "7                        NaN                          NaN   \n",
              "8                        NaN                          NaN   \n",
              "9                        NaN                          NaN   \n",
              "10                       NaN                          NaN   \n",
              "\n",
              "title   *batteries not included (1987)  ...And Justice for All (1979)  \\\n",
              "userId                                                                  \n",
              "1                                  NaN                            NaN   \n",
              "2                                  NaN                            NaN   \n",
              "3                                  NaN                            NaN   \n",
              "4                                  NaN                            NaN   \n",
              "5                                  NaN                            NaN   \n",
              "6                                  NaN                            NaN   \n",
              "7                                  NaN                            NaN   \n",
              "8                                  NaN                            NaN   \n",
              "9                                  NaN                            NaN   \n",
              "10                                 NaN                            NaN   \n",
              "\n",
              "title   10 (1979)  ...  [REC] (2007)  [REC]² (2009)  [REC]³ 3 Génesis (2012)  \\\n",
              "userId             ...                                                         \n",
              "1             NaN  ...           NaN            NaN                      NaN   \n",
              "2             NaN  ...           NaN            NaN                      NaN   \n",
              "3             NaN  ...           NaN            NaN                      NaN   \n",
              "4             NaN  ...           NaN            NaN                      NaN   \n",
              "5             NaN  ...           NaN            NaN                      NaN   \n",
              "6             NaN  ...           NaN            NaN                      NaN   \n",
              "7             NaN  ...           NaN            NaN                      NaN   \n",
              "8             NaN  ...           NaN            NaN                      NaN   \n",
              "9             NaN  ...           NaN            NaN                      NaN   \n",
              "10            NaN  ...           NaN            NaN                      NaN   \n",
              "\n",
              "title   a/k/a Tommy Chong (2005)  eXistenZ (1999)  \\\n",
              "userId                                              \n",
              "1                            NaN              NaN   \n",
              "2                            NaN              NaN   \n",
              "3                            NaN              NaN   \n",
              "4                            NaN              NaN   \n",
              "5                            NaN              NaN   \n",
              "6                            NaN              NaN   \n",
              "7                            NaN              NaN   \n",
              "8                            NaN              NaN   \n",
              "9                            NaN              NaN   \n",
              "10                           NaN              NaN   \n",
              "\n",
              "title   loudQUIETloud: A Film About the Pixies (2006)  xXx (2002)  \\\n",
              "userId                                                              \n",
              "1                                                 NaN         NaN   \n",
              "2                                                 NaN         NaN   \n",
              "3                                                 NaN         NaN   \n",
              "4                                                 NaN         NaN   \n",
              "5                                                 NaN         NaN   \n",
              "6                                                 NaN         NaN   \n",
              "7                                                 NaN         NaN   \n",
              "8                                                 NaN         NaN   \n",
              "9                                                 NaN         NaN   \n",
              "10                                                NaN         NaN   \n",
              "\n",
              "title   xXx: State of the Union (2005)  ¡Three Amigos! (1986)  \\\n",
              "userId                                                          \n",
              "1                                  NaN                    NaN   \n",
              "2                                  NaN                    NaN   \n",
              "3                                  NaN                    NaN   \n",
              "4                                  NaN                    NaN   \n",
              "5                                  NaN                    NaN   \n",
              "6                                  NaN                    NaN   \n",
              "7                                  NaN                    NaN   \n",
              "8                                  NaN                    NaN   \n",
              "9                                  NaN                    NaN   \n",
              "10                                 NaN                    NaN   \n",
              "\n",
              "title   À nous la liberté (Freedom for Us) (1931)  \n",
              "userId                                             \n",
              "1                                             NaN  \n",
              "2                                             NaN  \n",
              "3                                             NaN  \n",
              "4                                             NaN  \n",
              "5                                             NaN  \n",
              "6                                             NaN  \n",
              "7                                             NaN  \n",
              "8                                             NaN  \n",
              "9                                             NaN  \n",
              "10                                            NaN  \n",
              "\n",
              "[10 rows x 10323 columns]"
            ]
          },
          "execution_count": 19,
          "metadata": {},
          "output_type": "execute_result"
        }
      ],
      "source": [
        "user_movie_rating = movie_data.pivot_table(index='userId', columns='title', values='rating')\n",
        "\n",
        "user_movie_rating.head(10)"
      ]
    },
    {
      "cell_type": "markdown",
      "metadata": {
        "id": "Xq7w56ypMfZI"
      },
      "source": [
        "- We know that each column contains all the user ratings for a particular movie. \n",
        "\n",
        "- Now, let's find all the user ratings for the movie `Forrest Gump (1994)` and find the movies similar to it. \n",
        "\n",
        "- We chose this movie since it has the highest number of ratings and we want to find the correlation between movies that have a higher number of ratings."
      ]
    },
    {
      "cell_type": "markdown",
      "metadata": {
        "id": "i3Gqe4nGMfZI"
      },
      "source": [
        "- We will find the user ratings for `Forrest Gump (1994) ` as follows-"
      ]
    },
    {
      "cell_type": "code",
      "execution_count": null,
      "metadata": {
        "id": "FyxO-1-TMfZI",
        "outputId": "9fd4df35-bfbc-46a8-e38a-74a1f6ebe1e5"
      },
      "outputs": [
        {
          "data": {
            "text/plain": [
              "userId\n",
              "1     3.0\n",
              "2     NaN\n",
              "3     3.0\n",
              "4     NaN\n",
              "5     NaN\n",
              "6     NaN\n",
              "7     5.0\n",
              "8     NaN\n",
              "9     3.0\n",
              "10    4.0\n",
              "Name: Forrest Gump (1994), dtype: float64"
            ]
          },
          "execution_count": 21,
          "metadata": {},
          "output_type": "execute_result"
        }
      ],
      "source": [
        "forrest_gump_ratings = user_movie_rating['Forrest Gump (1994)']\n",
        "\n",
        "forrest_gump_ratings.head(10)"
      ]
    },
    {
      "cell_type": "markdown",
      "metadata": {
        "id": "zCgWUxGmMfZI"
      },
      "source": [
        "- We can see from the above output, that it will return a Pandas series."
      ]
    },
    {
      "cell_type": "markdown",
      "metadata": {
        "id": "brXoq7t9MfZJ"
      },
      "source": [
        "- Now, we will retrieve all the movies that are similar to `Forrest Gump (1994)`. \n",
        "\n",
        "- We can find the correlation between the user ratings for the `Forest Gump (1994)` and all the other movies using `corrwith()` function as shown below:"
      ]
    },
    {
      "cell_type": "code",
      "execution_count": null,
      "metadata": {
        "id": "0KiisjrEMfZJ",
        "outputId": "e22f0b5a-9f8e-4465-8866-a2a513d8c0f8"
      },
      "outputs": [
        {
          "name": "stderr",
          "output_type": "stream",
          "text": [
            "C:\\Users\\wajih\\AppData\\Roaming\\Python\\Python38\\site-packages\\numpy\\lib\\function_base.py:2846: RuntimeWarning: Degrees of freedom <= 0 for slice\n",
            "  c = cov(x, y, rowvar, dtype=dtype)\n",
            "C:\\Users\\wajih\\AppData\\Roaming\\Python\\Python38\\site-packages\\numpy\\lib\\function_base.py:2705: RuntimeWarning: divide by zero encountered in divide\n",
            "  c *= np.true_divide(1, fact)\n"
          ]
        }
      ],
      "source": [
        "movies_like_forest_gump = user_movie_rating.corrwith(forrest_gump_ratings)"
      ]
    },
    {
      "cell_type": "code",
      "execution_count": null,
      "metadata": {
        "id": "FCuUUc9zMfZJ",
        "outputId": "c35f4097-6a97-4451-dc6f-dd778b5b9680"
      },
      "outputs": [
        {
          "data": {
            "text/html": [
              "<div>\n",
              "<style scoped>\n",
              "    .dataframe tbody tr th:only-of-type {\n",
              "        vertical-align: middle;\n",
              "    }\n",
              "\n",
              "    .dataframe tbody tr th {\n",
              "        vertical-align: top;\n",
              "    }\n",
              "\n",
              "    .dataframe thead th {\n",
              "        text-align: right;\n",
              "    }\n",
              "</style>\n",
              "<table border=\"1\" class=\"dataframe\">\n",
              "  <thead>\n",
              "    <tr style=\"text-align: right;\">\n",
              "      <th></th>\n",
              "      <th>Correlation</th>\n",
              "    </tr>\n",
              "    <tr>\n",
              "      <th>title</th>\n",
              "      <th></th>\n",
              "    </tr>\n",
              "  </thead>\n",
              "  <tbody>\n",
              "    <tr>\n",
              "      <th>'burbs, The (1989)</th>\n",
              "      <td>0.056266</td>\n",
              "    </tr>\n",
              "    <tr>\n",
              "      <th>(500) Days of Summer (2009)</th>\n",
              "      <td>0.144325</td>\n",
              "    </tr>\n",
              "    <tr>\n",
              "      <th>*batteries not included (1987)</th>\n",
              "      <td>0.000000</td>\n",
              "    </tr>\n",
              "    <tr>\n",
              "      <th>...And Justice for All (1979)</th>\n",
              "      <td>0.089924</td>\n",
              "    </tr>\n",
              "    <tr>\n",
              "      <th>10 (1979)</th>\n",
              "      <td>0.693375</td>\n",
              "    </tr>\n",
              "  </tbody>\n",
              "</table>\n",
              "</div>"
            ],
            "text/plain": [
              "                                Correlation\n",
              "title                                      \n",
              "'burbs, The (1989)                 0.056266\n",
              "(500) Days of Summer (2009)        0.144325\n",
              "*batteries not included (1987)     0.000000\n",
              "...And Justice for All (1979)      0.089924\n",
              "10 (1979)                          0.693375"
            ]
          },
          "execution_count": 23,
          "metadata": {},
          "output_type": "execute_result"
        }
      ],
      "source": [
        "corr_forrest_gump = pd.DataFrame(movies_like_forest_gump, columns=['Correlation'])\n",
        "corr_forrest_gump.dropna(inplace=True)\n",
        "corr_forrest_gump.head()"
      ]
    },
    {
      "cell_type": "markdown",
      "metadata": {
        "id": "TekA4Fd5MfZJ"
      },
      "source": [
        "- Now, let's sort the movies in descending order of correlation to see highly correlated movies at the top."
      ]
    },
    {
      "cell_type": "code",
      "execution_count": null,
      "metadata": {
        "id": "IOroWntKMfZJ",
        "outputId": "fc3fadce-65ac-4ca1-e648-cbae233fd25d"
      },
      "outputs": [
        {
          "data": {
            "text/html": [
              "<div>\n",
              "<style scoped>\n",
              "    .dataframe tbody tr th:only-of-type {\n",
              "        vertical-align: middle;\n",
              "    }\n",
              "\n",
              "    .dataframe tbody tr th {\n",
              "        vertical-align: top;\n",
              "    }\n",
              "\n",
              "    .dataframe thead th {\n",
              "        text-align: right;\n",
              "    }\n",
              "</style>\n",
              "<table border=\"1\" class=\"dataframe\">\n",
              "  <thead>\n",
              "    <tr style=\"text-align: right;\">\n",
              "      <th></th>\n",
              "      <th>Correlation</th>\n",
              "    </tr>\n",
              "    <tr>\n",
              "      <th>title</th>\n",
              "      <th></th>\n",
              "    </tr>\n",
              "  </thead>\n",
              "  <tbody>\n",
              "    <tr>\n",
              "      <th>Martian Child (2007)</th>\n",
              "      <td>1.0</td>\n",
              "    </tr>\n",
              "    <tr>\n",
              "      <th>First Kid (1996)</th>\n",
              "      <td>1.0</td>\n",
              "    </tr>\n",
              "    <tr>\n",
              "      <th>Shortbus (2006)</th>\n",
              "      <td>1.0</td>\n",
              "    </tr>\n",
              "    <tr>\n",
              "      <th>Court Jester, The (1956)</th>\n",
              "      <td>1.0</td>\n",
              "    </tr>\n",
              "    <tr>\n",
              "      <th>Bottle Shock (2008)</th>\n",
              "      <td>1.0</td>\n",
              "    </tr>\n",
              "    <tr>\n",
              "      <th>Anna Karenina (2012)</th>\n",
              "      <td>1.0</td>\n",
              "    </tr>\n",
              "    <tr>\n",
              "      <th>Elegy (2008)</th>\n",
              "      <td>1.0</td>\n",
              "    </tr>\n",
              "    <tr>\n",
              "      <th>Half Light (2006)</th>\n",
              "      <td>1.0</td>\n",
              "    </tr>\n",
              "    <tr>\n",
              "      <th>Unvanquished, The (Aparajito) (1957)</th>\n",
              "      <td>1.0</td>\n",
              "    </tr>\n",
              "    <tr>\n",
              "      <th>Save the Tiger (1973)</th>\n",
              "      <td>1.0</td>\n",
              "    </tr>\n",
              "  </tbody>\n",
              "</table>\n",
              "</div>"
            ],
            "text/plain": [
              "                                      Correlation\n",
              "title                                            \n",
              "Martian Child (2007)                          1.0\n",
              "First Kid (1996)                              1.0\n",
              "Shortbus (2006)                               1.0\n",
              "Court Jester, The (1956)                      1.0\n",
              "Bottle Shock (2008)                           1.0\n",
              "Anna Karenina (2012)                          1.0\n",
              "Elegy (2008)                                  1.0\n",
              "Half Light (2006)                             1.0\n",
              "Unvanquished, The (Aparajito) (1957)          1.0\n",
              "Save the Tiger (1973)                         1.0"
            ]
          },
          "execution_count": 25,
          "metadata": {},
          "output_type": "execute_result"
        }
      ],
      "source": [
        "corr_forrest_gump.sort_values('Correlation', ascending=False).head(10)"
      ]
    },
    {
      "cell_type": "markdown",
      "metadata": {
        "id": "YotNakMPMfZK"
      },
      "source": [
        "- From the above output, we can see that the movies that have high correlation with `Forrest Gump (1994)` are not very well known. \n",
        "\n",
        "- This shows that correlation alone is not a good metric for similarity because there can be a user who watched '`Forest Gump (1994)` and only one other movie and rated both of them as 5."
      ]
    },
    {
      "cell_type": "markdown",
      "metadata": {
        "id": "zM9AeHkMMfZK"
      },
      "source": [
        "- A solution to this problem is to retrieve only those correlated movies that have at least more than 50 ratings. \n",
        "\n",
        "- To do so, we will add the `rating_counts` column from the `rating_mean_count` dataframe to our `corr_forrest_gump` dataframe."
      ]
    },
    {
      "cell_type": "code",
      "execution_count": null,
      "metadata": {
        "id": "6eh91FrCMfZK",
        "outputId": "67706e19-8001-4bd8-fdc9-68e505d8275e"
      },
      "outputs": [
        {
          "data": {
            "text/html": [
              "<div>\n",
              "<style scoped>\n",
              "    .dataframe tbody tr th:only-of-type {\n",
              "        vertical-align: middle;\n",
              "    }\n",
              "\n",
              "    .dataframe tbody tr th {\n",
              "        vertical-align: top;\n",
              "    }\n",
              "\n",
              "    .dataframe thead th {\n",
              "        text-align: right;\n",
              "    }\n",
              "</style>\n",
              "<table border=\"1\" class=\"dataframe\">\n",
              "  <thead>\n",
              "    <tr style=\"text-align: right;\">\n",
              "      <th></th>\n",
              "      <th>Correlation</th>\n",
              "      <th>rating_counts</th>\n",
              "    </tr>\n",
              "    <tr>\n",
              "      <th>title</th>\n",
              "      <th></th>\n",
              "      <th></th>\n",
              "    </tr>\n",
              "  </thead>\n",
              "  <tbody>\n",
              "    <tr>\n",
              "      <th>'burbs, The (1989)</th>\n",
              "      <td>0.056266</td>\n",
              "      <td>20</td>\n",
              "    </tr>\n",
              "    <tr>\n",
              "      <th>(500) Days of Summer (2009)</th>\n",
              "      <td>0.144325</td>\n",
              "      <td>37</td>\n",
              "    </tr>\n",
              "    <tr>\n",
              "      <th>*batteries not included (1987)</th>\n",
              "      <td>0.000000</td>\n",
              "      <td>11</td>\n",
              "    </tr>\n",
              "    <tr>\n",
              "      <th>...And Justice for All (1979)</th>\n",
              "      <td>0.089924</td>\n",
              "      <td>10</td>\n",
              "    </tr>\n",
              "    <tr>\n",
              "      <th>10 (1979)</th>\n",
              "      <td>0.693375</td>\n",
              "      <td>3</td>\n",
              "    </tr>\n",
              "  </tbody>\n",
              "</table>\n",
              "</div>"
            ],
            "text/plain": [
              "                                Correlation  rating_counts\n",
              "title                                                     \n",
              "'burbs, The (1989)                 0.056266             20\n",
              "(500) Days of Summer (2009)        0.144325             37\n",
              "*batteries not included (1987)     0.000000             11\n",
              "...And Justice for All (1979)      0.089924             10\n",
              "10 (1979)                          0.693375              3"
            ]
          },
          "execution_count": 26,
          "metadata": {},
          "output_type": "execute_result"
        }
      ],
      "source": [
        "corr_forrest_gump = corr_forrest_gump.join(ratings_mean_count['rating_counts'])\n",
        "corr_forrest_gump.head()"
      ]
    },
    {
      "cell_type": "markdown",
      "metadata": {
        "id": "b7I0sDCQMfZK"
      },
      "source": [
        "- We can see that the movie `10`, which has the highest correlation has only three ratings. This means that only three users gave same ratings to `Forest Gump (1994)`. \n",
        "\n",
        "- However, we can deduce that a movie cannot be declared similar to the another movie based on just 3 ratings. This is why we added `rating_counts` column. \n",
        "\n",
        "- Now, let's now filter movies correlated to `Forest Gump (1994)`, that have more than 50 ratings. \n",
        "\n",
        "- The following code snippet will do that-"
      ]
    },
    {
      "cell_type": "code",
      "execution_count": null,
      "metadata": {
        "id": "VwNygZNtMfZK",
        "outputId": "b9e77b68-3d2d-423b-9d6f-8ba9a8d9e6b9"
      },
      "outputs": [
        {
          "data": {
            "text/html": [
              "<div>\n",
              "<style scoped>\n",
              "    .dataframe tbody tr th:only-of-type {\n",
              "        vertical-align: middle;\n",
              "    }\n",
              "\n",
              "    .dataframe tbody tr th {\n",
              "        vertical-align: top;\n",
              "    }\n",
              "\n",
              "    .dataframe thead th {\n",
              "        text-align: right;\n",
              "    }\n",
              "</style>\n",
              "<table border=\"1\" class=\"dataframe\">\n",
              "  <thead>\n",
              "    <tr style=\"text-align: right;\">\n",
              "      <th></th>\n",
              "      <th>Correlation</th>\n",
              "      <th>rating_counts</th>\n",
              "    </tr>\n",
              "    <tr>\n",
              "      <th>title</th>\n",
              "      <th></th>\n",
              "      <th></th>\n",
              "    </tr>\n",
              "  </thead>\n",
              "  <tbody>\n",
              "    <tr>\n",
              "      <th>Forrest Gump (1994)</th>\n",
              "      <td>1.000000</td>\n",
              "      <td>311</td>\n",
              "    </tr>\n",
              "    <tr>\n",
              "      <th>Happy Gilmore (1996)</th>\n",
              "      <td>0.715602</td>\n",
              "      <td>79</td>\n",
              "    </tr>\n",
              "    <tr>\n",
              "      <th>12 Angry Men (1957)</th>\n",
              "      <td>0.545139</td>\n",
              "      <td>63</td>\n",
              "    </tr>\n",
              "    <tr>\n",
              "      <th>As Good as It Gets (1997)</th>\n",
              "      <td>0.521448</td>\n",
              "      <td>98</td>\n",
              "    </tr>\n",
              "    <tr>\n",
              "      <th>First Knight (1995)</th>\n",
              "      <td>0.520438</td>\n",
              "      <td>52</td>\n",
              "    </tr>\n",
              "  </tbody>\n",
              "</table>\n",
              "</div>"
            ],
            "text/plain": [
              "                           Correlation  rating_counts\n",
              "title                                                \n",
              "Forrest Gump (1994)           1.000000            311\n",
              "Happy Gilmore (1996)          0.715602             79\n",
              "12 Angry Men (1957)           0.545139             63\n",
              "As Good as It Gets (1997)     0.521448             98\n",
              "First Knight (1995)           0.520438             52"
            ]
          },
          "execution_count": 27,
          "metadata": {},
          "output_type": "execute_result"
        }
      ],
      "source": [
        "corr_forrest_gump[corr_forrest_gump ['rating_counts']>50].sort_values('Correlation', ascending=False).head()"
      ]
    },
    {
      "cell_type": "markdown",
      "metadata": {
        "id": "51dcEfW4MfZK"
      },
      "source": [
        "- Now, we can see from the above output the movies that are highly correlated with `Forrest Gump (1994)`. \n",
        "\n",
        "- The movies in the list are some of the most famous movies Hollywood movies, and since `Forest Gump (1994)` is also a very famous movie, there is a high chance that these movies are highly correlated."
      ]
    },
    {
      "cell_type": "markdown",
      "metadata": {
        "id": "sUvtGkZ4MfZL"
      },
      "source": [
        "- Thus, we created a simple recommender system."
      ]
    },
    {
      "cell_type": "markdown",
      "metadata": {
        "_cell_guid": "b1076dfc-b9ad-4769-8c92-a6c4dae69d19",
        "_uuid": "8f2839f25d086af736a60e9eeb907d3b93b6e0e5",
        "id": "9k6tG8igMfZL"
      },
      "source": [
        "# **14. Conclusion** <a class=\"anchor\" id=\"14\"></a>\n",
        "\n",
        "[Table of Contents](#0.1)\n",
        "\n",
        "\n",
        "- In this notebook, we studied what a recommender system is and how we can create it in Python using only the Pandas library. \n",
        "\n",
        "- It is important to mention that the recommender system we created is very simple. \n",
        "\n",
        "- Real-life recommender systems use very complex algorithms and is out of the scope of this notebook."
      ]
    },
    {
      "cell_type": "markdown",
      "metadata": {
        "id": "iZWuit4KMfZL"
      },
      "source": [
        "# **15. References** <a class=\"anchor\" id=\"15\"></a>\n",
        "\n",
        "[Table of Contents](#0.1)\n",
        "\n",
        "\n",
        "The ideas and concepts in this notebook are taken from the following websites-\n",
        "\n",
        "\n",
        "1. https://en.wikipedia.org/wiki/Recommender_system\n",
        "\n",
        "2. https://stackabuse.com/creating-a-simple-recommender-system-in-python-using-pandas/\n",
        "\n",
        "3. https://www.datacamp.com/community/tutorials/recommender-systems-python\n",
        "\n",
        "4. https://www.analyticsvidhya.com/blog/2018/06/comprehensive-guide-recommendation-engine-python/\n",
        "\n",
        "5. https://towardsdatascience.com/how-to-build-a-simple-recommender-system-in-python-375093c3fb7d\n",
        "\n",
        "6. https://en.m.wikipedia.org/wiki/Matrix_factorization_(recommender_systems)"
      ]
    },
    {
      "cell_type": "markdown",
      "metadata": {
        "_cell_guid": "79c7e3d0-c299-4dcb-8224-4455121ee9b0",
        "_uuid": "d629ff2d2480ee46fbb7e2d37f6b5fab8052498a",
        "collapsed": true,
        "id": "4R8hqNjoMfZL"
      },
      "source": [
        "So, now we will come to the end of this notebook.\n",
        "\n",
        "I hope you find this notebook useful and enjoyable.\n",
        "\n",
        "Your comments and feedback are most welcome.\n",
        "\n",
        "Thank you\n"
      ]
    },
    {
      "cell_type": "markdown",
      "metadata": {
        "id": "IOWMzfs4MfZL"
      },
      "source": [
        "[Go to Top](#0)"
      ]
    }
  ],
  "metadata": {
    "kernelspec": {
      "display_name": "Python 3 (ipykernel)",
      "language": "python",
      "name": "python3"
    },
    "language_info": {
      "codemirror_mode": {
        "name": "ipython",
        "version": 3
      },
      "file_extension": ".py",
      "mimetype": "text/x-python",
      "name": "python",
      "nbconvert_exporter": "python",
      "pygments_lexer": "ipython3",
      "version": "3.8.8"
    },
    "colab": {
      "provenance": [],
      "include_colab_link": true
    }
  },
  "nbformat": 4,
  "nbformat_minor": 0
}